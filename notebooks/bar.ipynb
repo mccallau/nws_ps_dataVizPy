{
 "cells": [
  {
   "cell_type": "code",
   "execution_count": 82,
   "metadata": {},
   "outputs": [],
   "source": [
    "# imports\n",
    "import pandas as pd\n",
    "import numpy as np\n",
    "import matplotlib.pyplot as plt\n",
    "import warnings\n",
    "warnings.simplefilter('ignore') # filter warnings\n",
    "data = pd.read_csv('../data/raw/countries.csv')"
   ]
  },
  {
   "cell_type": "code",
   "execution_count": 83,
   "metadata": {},
   "outputs": [
    {
     "data": {
      "text/html": [
       "<div>\n",
       "<style scoped>\n",
       "    .dataframe tbody tr th:only-of-type {\n",
       "        vertical-align: middle;\n",
       "    }\n",
       "\n",
       "    .dataframe tbody tr th {\n",
       "        vertical-align: top;\n",
       "    }\n",
       "\n",
       "    .dataframe thead th {\n",
       "        text-align: right;\n",
       "    }\n",
       "</style>\n",
       "<table border=\"1\" class=\"dataframe\">\n",
       "  <thead>\n",
       "    <tr style=\"text-align: right;\">\n",
       "      <th></th>\n",
       "      <th>country</th>\n",
       "      <th>continent</th>\n",
       "      <th>year</th>\n",
       "      <th>lifeExpectancy</th>\n",
       "      <th>population</th>\n",
       "      <th>gdpPerCapita</th>\n",
       "    </tr>\n",
       "  </thead>\n",
       "  <tbody>\n",
       "    <tr>\n",
       "      <th>0</th>\n",
       "      <td>Afghanistan</td>\n",
       "      <td>Asia</td>\n",
       "      <td>1952</td>\n",
       "      <td>28.801</td>\n",
       "      <td>8425333</td>\n",
       "      <td>779.445314</td>\n",
       "    </tr>\n",
       "    <tr>\n",
       "      <th>1</th>\n",
       "      <td>Afghanistan</td>\n",
       "      <td>Asia</td>\n",
       "      <td>1957</td>\n",
       "      <td>30.332</td>\n",
       "      <td>9240934</td>\n",
       "      <td>820.853030</td>\n",
       "    </tr>\n",
       "    <tr>\n",
       "      <th>2</th>\n",
       "      <td>Afghanistan</td>\n",
       "      <td>Asia</td>\n",
       "      <td>1962</td>\n",
       "      <td>31.997</td>\n",
       "      <td>10267083</td>\n",
       "      <td>853.100710</td>\n",
       "    </tr>\n",
       "    <tr>\n",
       "      <th>3</th>\n",
       "      <td>Afghanistan</td>\n",
       "      <td>Asia</td>\n",
       "      <td>1967</td>\n",
       "      <td>34.020</td>\n",
       "      <td>11537966</td>\n",
       "      <td>836.197138</td>\n",
       "    </tr>\n",
       "    <tr>\n",
       "      <th>4</th>\n",
       "      <td>Afghanistan</td>\n",
       "      <td>Asia</td>\n",
       "      <td>1972</td>\n",
       "      <td>36.088</td>\n",
       "      <td>13079460</td>\n",
       "      <td>739.981106</td>\n",
       "    </tr>\n",
       "  </tbody>\n",
       "</table>\n",
       "</div>"
      ],
      "text/plain": [
       "       country continent  year  lifeExpectancy  population  gdpPerCapita\n",
       "0  Afghanistan      Asia  1952          28.801     8425333    779.445314\n",
       "1  Afghanistan      Asia  1957          30.332     9240934    820.853030\n",
       "2  Afghanistan      Asia  1962          31.997    10267083    853.100710\n",
       "3  Afghanistan      Asia  1967          34.020    11537966    836.197138\n",
       "4  Afghanistan      Asia  1972          36.088    13079460    739.981106"
      ]
     },
     "execution_count": 83,
     "metadata": {},
     "output_type": "execute_result"
    }
   ],
   "source": [
    "data.head()"
   ]
  },
  {
   "cell_type": "code",
   "execution_count": 84,
   "metadata": {},
   "outputs": [],
   "source": [
    "# want data from 2007\n",
    "data_2007 = data[data.year == 2007]\n",
    "# want gdp = gdp per cap * pop\n",
    "data_2007['gdp'] = data_2007.gdpPerCapita*data_2007.population\n",
    "# want top 10 pop\n",
    "data_2007_top10pop = data_2007.sort_values('population').tail(10)\n",
    "data_2007_top10pop_gdp = data_2007_top10pop.sort_values('gdp')"
   ]
  },
  {
   "cell_type": "code",
   "execution_count": 85,
   "metadata": {},
   "outputs": [
    {
     "data": {
      "image/png": "[encoded data removed]",
      "text/plain": [
       "<Figure size 432x288 with 1 Axes>"
      ]
     },
     "metadata": {
      "needs_background": "light"
     },
     "output_type": "display_data"
    }
   ],
   "source": [
    "# want sorted top 10 pop by continent\n",
    "cmap = {'Asia':'r','Americas':'b','Africa':'g'} # cmap for continent\n",
    "\n",
    "ind = np.arange(10)\n",
    "plt.bar(\n",
    "    ind\n",
    "    ,data_2007_top10pop.population/10**9\n",
    "    ,color=[cmap[i] for i in data_2007_top10pop.continent]\n",
    ")\n",
    "plt.legend( # create legend based on cmap\n",
    "    [plt.Rectangle(\n",
    "        (0,0)\n",
    "        ,0\n",
    "        ,0\n",
    "        ,color=cmap[label]\n",
    "    ) for label in cmap.keys()\n",
    "    ]\n",
    "    ,cmap.keys()\n",
    ")\n",
    "plt.xticks(\n",
    "    ind\n",
    "    ,data_2007_top10pop.country\n",
    "    ,rotation=90\n",
    ")\n",
    "plt.show()"
   ]
  },
  {
   "cell_type": "code",
   "execution_count": 86,
   "metadata": {},
   "outputs": [
    {
     "data": {
      "image/png": "[encoded data removed]",
      "text/plain": [
       "<Figure size 432x288 with 1 Axes>"
      ]
     },
     "metadata": {
      "needs_background": "light"
     },
     "output_type": "display_data"
    }
   ],
   "source": [
    "# want sorted top 10 gdp by continent\n",
    "cmap = {'Asia':'r','Americas':'b','Africa':'g'} # cmap by continent\n",
    "\n",
    "ind = np.arange(10)\n",
    "plt.bar(\n",
    "    ind\n",
    "    ,data_2007_top10pop_gdp.gdp/10**9\n",
    "    ,color=[cmap[i] for i in data_2007_top10pop_gdp.continent]\n",
    ")\n",
    "plt.legend([ # create legend based on cmap\n",
    "    plt.Rectangle(\n",
    "        (0,0)\n",
    "        ,0\n",
    "        ,0\n",
    "        ,color=cmap[label]\n",
    "    ) for label in cmap.keys()\n",
    "    ]\n",
    "    ,cmap.keys()\n",
    ")\n",
    "plt.xticks(\n",
    "    ind\n",
    "    ,data_2007_top10pop_gdp.country\n",
    "    ,rotation=90\n",
    ")\n",
    "plt.show()"
   ]
  },
  {
   "cell_type": "code",
   "execution_count": 87,
   "metadata": {},
   "outputs": [
    {
     "data": {
      "image/png": "[encoded data removed]",
      "text/plain": [
       "<Figure size 432x288 with 2 Axes>"
      ]
     },
     "metadata": {
      "needs_background": "light"
     },
     "output_type": "display_data"
    }
   ],
   "source": [
    "# combine the two\n",
    "w = .35\n",
    "ind = np.arange(10)\n",
    "\n",
    "# create initial plot\n",
    "fig, ax = plt.subplots()\n",
    "\n",
    "# plot 1 population\n",
    "plt.xticks(\n",
    "    ind+w/2 # plot x ticks in the middle of our two bars\n",
    "    ,data_2007_top10pop.country\n",
    "    ,rotation=60\n",
    ")\n",
    "bar1 = ax.bar(\n",
    "    ind\n",
    "    ,data_2007_top10pop.population/10**9\n",
    "    ,w\n",
    "    ,color='r'\n",
    ")\n",
    "ax.legend(\n",
    "    (bar1[0], bar2[0])\n",
    "    ,('Population', 'GDP')\n",
    ")\n",
    "\n",
    "# plot 2 gdp\n",
    "ax2 = ax.twinx()\n",
    "bar2 = ax2.bar(\n",
    "    ind+w\n",
    "    ,data_2007_top10pop.gdp/10**9\n",
    "    ,w\n",
    "    ,color='g'\n",
    ")\n",
    "plt.show()"
   ]
  },
  {
   "cell_type": "code",
   "execution_count": null,
   "metadata": {},
   "outputs": [],
   "source": []
  }
 ],
 "metadata": {
  "kernelspec": {
   "display_name": "Python 3",
   "language": "python",
   "name": "python3"
  },
  "language_info": {
   "codemirror_mode": {
    "name": "ipython",
    "version": 3
   },
   "file_extension": ".py",
   "mimetype": "text/x-python",
   "name": "python",
   "nbconvert_exporter": "python",
   "pygments_lexer": "ipython3",
   "version": "3.7.7"
  }
 },
 "nbformat": 4,
 "nbformat_minor": 4
}
